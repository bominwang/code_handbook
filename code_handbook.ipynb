{
  "nbformat": 4,
  "nbformat_minor": 0,
  "metadata": {
    "colab": {
      "provenance": [],
      "authorship_tag": "ABX9TyO9snrPYxtAanP131vbTzKf",
      "include_colab_link": true
    },
    "kernelspec": {
      "name": "python3",
      "display_name": "Python 3"
    },
    "language_info": {
      "name": "python"
    }
  },
  "cells": [
    {
      "cell_type": "markdown",
      "metadata": {
        "id": "view-in-github",
        "colab_type": "text"
      },
      "source": [
        "<a href=\"https://colab.research.google.com/github/bominwang/code_handbook/blob/main/code_handbook.ipynb\" target=\"_parent\"><img src=\"https://colab.research.google.com/assets/colab-badge.svg\" alt=\"Open In Colab\"/></a>"
      ]
    },
    {
      "cell_type": "markdown",
      "source": [
        "**生成整数集，并构建其随机子集和子集补集**"
      ],
      "metadata": {
        "id": "TrcBWrv2Pl1W"
      }
    },
    {
      "cell_type": "code",
      "execution_count": 1,
      "metadata": {
        "id": "0P1Dv01IPXf1"
      },
      "outputs": [],
      "source": [
        "import random\n",
        "import numpy as np"
      ]
    },
    {
      "cell_type": "code",
      "source": [
        "# 整数集合 \n",
        "x = list(range(11))\n",
        "# 随机子集\n",
        "y = random.sample(range(0, 10), 5)\n",
        "print(x)\n",
        "print(y)\n",
        "# 子集补集\n",
        "z = np.setdiff1d(x, y)\n",
        "print(z)"
      ],
      "metadata": {
        "colab": {
          "base_uri": "https://localhost:8080/"
        },
        "id": "BAKK7N-1QRBZ",
        "outputId": "b4fadde5-0182-4d19-8db9-92947e236530"
      },
      "execution_count": 15,
      "outputs": [
        {
          "output_type": "stream",
          "name": "stdout",
          "text": [
            "[0, 1, 2, 3, 4, 5, 6, 7, 8, 9, 10]\n",
            "[9, 2, 6, 7, 0]\n",
            "[ 1  3  4  5  8 10]\n"
          ]
        }
      ]
    }
  ]
}